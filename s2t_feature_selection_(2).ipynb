{
  "nbformat": 4,
  "nbformat_minor": 0,
  "metadata": {
    "colab": {
      "provenance": [],
      "toc_visible": true,
      "gpuType": "T4",
      "include_colab_link": true
    },
    "kernelspec": {
      "name": "python3",
      "display_name": "Python 3"
    },
    "language_info": {
      "name": "python"
    },
    "gpuClass": "standard",
    "accelerator": "GPU"
  },
  "cells": [
    {
      "cell_type": "markdown",
      "metadata": {
        "id": "view-in-github",
        "colab_type": "text"
      },
      "source": [
        "<a href=\"https://colab.research.google.com/github/YasiruSilva/Practical-Ethical-Hacking-Resources/blob/master/s2t_feature_selection_(2).ipynb\" target=\"_parent\"><img src=\"https://colab.research.google.com/assets/colab-badge.svg\" alt=\"Open In Colab\"/></a>"
      ]
    },
    {
      "cell_type": "markdown",
      "source": [
        "# Feature selection for Speech to text model"
      ],
      "metadata": {
        "id": "kRnxR0uspNa3"
      }
    },
    {
      "cell_type": "markdown",
      "source": [
        "## Download dataset"
      ],
      "metadata": {
        "id": "FBB6_MOypWjn"
      }
    },
    {
      "cell_type": "code",
      "source": [
        "!sudo apt-get update\n",
        "!sudo apt-get install aria2"
      ],
      "metadata": {
        "id": "QNioIorrVNKR",
        "colab": {
          "base_uri": "https://localhost:8080/"
        },
        "outputId": "aeac5fff-23e6-49e2-e9a8-dc071bcfe2d9"
      },
      "execution_count": null,
      "outputs": [
        {
          "output_type": "stream",
          "name": "stdout",
          "text": [
            "\r0% [Working]\r            \rGet:1 https://cloud.r-project.org/bin/linux/ubuntu focal-cran40/ InRelease [3,622 B]\n",
            "Hit:2 https://developer.download.nvidia.com/compute/cuda/repos/ubuntu2004/x86_64  InRelease\n",
            "Hit:3 http://archive.ubuntu.com/ubuntu focal InRelease\n",
            "Get:4 http://ppa.launchpad.net/c2d4u.team/c2d4u4.0+/ubuntu focal InRelease [18.1 kB]\n",
            "Get:5 http://security.ubuntu.com/ubuntu focal-security InRelease [114 kB]\n",
            "Get:6 http://archive.ubuntu.com/ubuntu focal-updates InRelease [114 kB]\n",
            "Hit:7 http://ppa.launchpad.net/cran/libgit2/ubuntu focal InRelease\n",
            "Hit:8 http://ppa.launchpad.net/deadsnakes/ppa/ubuntu focal InRelease\n",
            "Get:9 http://archive.ubuntu.com/ubuntu focal-backports InRelease [108 kB]\n",
            "Get:10 http://security.ubuntu.com/ubuntu focal-security/universe amd64 Packages [1,046 kB]\n",
            "Get:11 http://ppa.launchpad.net/graphics-drivers/ppa/ubuntu focal InRelease [24.3 kB]\n",
            "Get:12 http://archive.ubuntu.com/ubuntu focal-updates/main amd64 Packages [3,158 kB]\n",
            "Hit:13 http://ppa.launchpad.net/ubuntugis/ppa/ubuntu focal InRelease\n",
            "Get:14 http://security.ubuntu.com/ubuntu focal-security/main amd64 Packages [2,681 kB]\n",
            "Get:15 http://archive.ubuntu.com/ubuntu focal-updates/universe amd64 Packages [1,343 kB]\n",
            "Get:16 http://ppa.launchpad.net/c2d4u.team/c2d4u4.0+/ubuntu focal/main Sources [2,573 kB]\n",
            "Get:17 http://ppa.launchpad.net/c2d4u.team/c2d4u4.0+/ubuntu focal/main amd64 Packages [1,213 kB]\n",
            "Get:18 http://ppa.launchpad.net/graphics-drivers/ppa/ubuntu focal/main amd64 Packages [46.8 kB]\n",
            "Fetched 12.4 MB in 5s (2,736 kB/s)\n",
            "Reading package lists... Done\n",
            "Reading package lists... Done\n",
            "Building dependency tree       \n",
            "Reading state information... Done\n",
            "The following additional packages will be installed:\n",
            "  libaria2-0 libc-ares2\n",
            "The following NEW packages will be installed:\n",
            "  aria2 libaria2-0 libc-ares2\n",
            "0 upgraded, 3 newly installed, 0 to remove and 24 not upgraded.\n",
            "Need to get 1,475 kB of archives.\n",
            "After this operation, 5,959 kB of additional disk space will be used.\n",
            "Get:1 http://archive.ubuntu.com/ubuntu focal-updates/main amd64 libc-ares2 amd64 1.15.0-1ubuntu0.2 [36.7 kB]\n",
            "Get:2 http://archive.ubuntu.com/ubuntu focal/universe amd64 libaria2-0 amd64 1.35.0-1build1 [1,082 kB]\n",
            "Get:3 http://archive.ubuntu.com/ubuntu focal/universe amd64 aria2 amd64 1.35.0-1build1 [356 kB]\n",
            "Fetched 1,475 kB in 1s (1,073 kB/s)\n",
            "debconf: unable to initialize frontend: Dialog\n",
            "debconf: (No usable dialog-like program is installed, so the dialog based frontend cannot be used. at /usr/share/perl5/Debconf/FrontEnd/Dialog.pm line 76, <> line 3.)\n",
            "debconf: falling back to frontend: Readline\n",
            "debconf: unable to initialize frontend: Readline\n",
            "debconf: (This frontend requires a controlling tty.)\n",
            "debconf: falling back to frontend: Teletype\n",
            "dpkg-preconfigure: unable to re-open stdin: \n",
            "Selecting previously unselected package libc-ares2:amd64.\n",
            "(Reading database ... 122519 files and directories currently installed.)\n",
            "Preparing to unpack .../libc-ares2_1.15.0-1ubuntu0.2_amd64.deb ...\n",
            "Unpacking libc-ares2:amd64 (1.15.0-1ubuntu0.2) ...\n",
            "Selecting previously unselected package libaria2-0:amd64.\n",
            "Preparing to unpack .../libaria2-0_1.35.0-1build1_amd64.deb ...\n",
            "Unpacking libaria2-0:amd64 (1.35.0-1build1) ...\n",
            "Selecting previously unselected package aria2.\n",
            "Preparing to unpack .../aria2_1.35.0-1build1_amd64.deb ...\n",
            "Unpacking aria2 (1.35.0-1build1) ...\n",
            "Setting up libc-ares2:amd64 (1.15.0-1ubuntu0.2) ...\n",
            "Setting up libaria2-0:amd64 (1.35.0-1build1) ...\n",
            "Setting up aria2 (1.35.0-1build1) ...\n",
            "Processing triggers for man-db (2.9.1-1) ...\n",
            "Processing triggers for libc-bin (2.31-0ubuntu9.9) ...\n"
          ]
        }
      ]
    },
    {
      "cell_type": "code",
      "source": [
        "datasets = [\n",
        "    'https://www.openslr.org/resources/60/dev-clean.tar.gz'\n",
        "]\n",
        "with open('urls.txt', 'w') as f:\n",
        "  f.write('\\n'.join(datasets))"
      ],
      "metadata": {
        "id": "8QMgPAvVVIPw"
      },
      "execution_count": null,
      "outputs": []
    },
    {
      "cell_type": "code",
      "source": [
        "!aria2c -i urls.txt"
      ],
      "metadata": {
        "id": "XM8HMj3pVUkh",
        "colab": {
          "base_uri": "https://localhost:8080/"
        },
        "outputId": "3ce32832-cb3d-4f36-d2af-5531695f5386"
      },
      "execution_count": null,
      "outputs": [
        {
          "output_type": "stream",
          "name": "stdout",
          "text": [
            "\n",
            "05/14 09:58:14 [\u001b[1;32mNOTICE\u001b[0m] Downloading 1 item(s)\n",
            "\n",
            "05/14 09:58:14 [\u001b[1;32mNOTICE\u001b[0m] CUID#7 - Redirecting to http://us.openslr.org/resources/60/dev-clean.tar.gz\n",
            " *** Download Progress Summary as of Sun May 14 09:59:15 2023 *** \n",
            "=\n",
            "[#e444ad 1.1GiB/1.2GiB(97%) CN:1 DL:20MiB ETA:1s]\n",
            "FILE: /content/dev-clean.tar.gz\n",
            "-\n",
            "\n",
            "\u001b[0m\n",
            "05/14 09:59:16 [\u001b[1;32mNOTICE\u001b[0m] Download complete: /content/dev-clean.tar.gz\n",
            "\n",
            "Download Results:\n",
            "gid   |stat|avg speed  |path/URI\n",
            "======+====+===========+=======================================================\n",
            "e444ad|\u001b[1;32mOK\u001b[0m  |    19MiB/s|/content/dev-clean.tar.gz\n",
            "\n",
            "Status Legend:\n",
            "(OK):download completed.\n"
          ]
        }
      ]
    },
    {
      "cell_type": "code",
      "source": [
        "!for file in *.tar.gz; do tar -xf \"$file\"; done"
      ],
      "metadata": {
        "id": "9aUTWXk5VVaP"
      },
      "execution_count": null,
      "outputs": []
    },
    {
      "cell_type": "markdown",
      "source": [
        "## Import packages"
      ],
      "metadata": {
        "id": "iGMDepiipbLe"
      }
    },
    {
      "cell_type": "code",
      "source": [
        "!pip install jiwer"
      ],
      "metadata": {
        "id": "QtimGxQ55GvP",
        "colab": {
          "base_uri": "https://localhost:8080/"
        },
        "outputId": "cfd29f5a-f895-47f7-ce4c-e4c8927f332b"
      },
      "execution_count": null,
      "outputs": [
        {
          "output_type": "stream",
          "name": "stdout",
          "text": [
            "Looking in indexes: https://pypi.org/simple, https://us-python.pkg.dev/colab-wheels/public/simple/\n",
            "Collecting jiwer\n",
            "  Downloading jiwer-3.0.1-py3-none-any.whl (21 kB)\n",
            "Requirement already satisfied: click<9.0.0,>=8.1.3 in /usr/local/lib/python3.10/dist-packages (from jiwer) (8.1.3)\n",
            "Collecting rapidfuzz==2.13.7 (from jiwer)\n",
            "  Downloading rapidfuzz-2.13.7-cp310-cp310-manylinux_2_17_x86_64.manylinux2014_x86_64.whl (2.2 MB)\n",
            "\u001b[2K     \u001b[90m━━━━━━━━━━━━━━━━━━━━━━━━━━━━━━━━━━━━━━━━\u001b[0m \u001b[32m2.2/2.2 MB\u001b[0m \u001b[31m42.7 MB/s\u001b[0m eta \u001b[36m0:00:00\u001b[0m\n",
            "\u001b[?25hInstalling collected packages: rapidfuzz, jiwer\n",
            "Successfully installed jiwer-3.0.1 rapidfuzz-2.13.7\n"
          ]
        }
      ]
    },
    {
      "cell_type": "code",
      "source": [
        "import numpy as np\n",
        "import pandas as pd\n",
        "import tensorflow as tf\n",
        "from tensorflow.keras import layers\n",
        "from pathlib import Path\n",
        "import librosa\n",
        "import shutil\n",
        "import jiwer\n",
        "from tqdm import tqdm\n",
        "import matplotlib.pyplot as plt"
      ],
      "metadata": {
        "id": "iNFnzE5gVYsy"
      },
      "execution_count": null,
      "outputs": []
    },
    {
      "cell_type": "code",
      "source": [
        "tf.keras.utils.set_random_seed(1234)"
      ],
      "metadata": {
        "id": "HH4zLAQ4Vj3L"
      },
      "execution_count": null,
      "outputs": []
    },
    {
      "cell_type": "markdown",
      "source": [
        "## Preprocess dataset"
      ],
      "metadata": {
        "id": "cd_-_KclpoL5"
      }
    },
    {
      "cell_type": "code",
      "source": [
        "DATASET = 'LibriTTS'\n",
        "# vocabulary \n",
        "VOCAB = [' ', 'a', 'b', 'c', 'd', 'e', 'f', 'g', 'h', 'i', 'j', 'k', 'l', 'm', 'n', 'o', 'p', 'q', 'r', 's', 't', 'u', 'v', 'w', 'x', 'y', 'z', \"'\"]\n",
        "batch_size = 32\n",
        "def get_EN_df():\n",
        "    if Path('EN_df.pkl').exists():                                        \n",
        "        df = pd.read_pickle('EN_df.pkl')\n",
        "        return df\n",
        "    data = []\n",
        "    dataset_path = Path(DATASET)\n",
        "    save_path = Path('clips')\n",
        "    save_path.mkdir(exist_ok=True)\n",
        "    ts = 0\n",
        "    for wav_path in tqdm(list(dataset_path.glob('**/*.wav'))):\n",
        "        # read label for the audio file\n",
        "        normalized = wav_path.with_suffix('.normalized.txt').read_text()\n",
        "        # skip too long audio files to reduce training time\n",
        "        if len(normalized) > 192: continue\n",
        "        rs_wav = save_path/ wav_path.name\n",
        "        # convert audio clip to 16kHz sample rate and single channel\n",
        "        y, sr = librosa.load(wav_path, sr=16000, mono=True)\n",
        "        ts += y.shape[0]\n",
        "        # encode audio file to wav format and save it\n",
        "        y = tf.expand_dims(y,axis=1)\n",
        "        wav = tf.audio.encode_wav(y, 16000)\n",
        "        tf.io.write_file(str(rs_wav), wav)\n",
        "        data.append((str(rs_wav), normalized))\n",
        "        \n",
        "    # sort dataset by label length and shuffle by groups of batch size to reduce training time\n",
        "    if len(data) % batch_size:\n",
        "        data = data[:-(len(data) % batch_size)]\n",
        "    data.sort(key=lambda x: len(x[1]))\n",
        "    ndata = [data[i:i+batch_size] for i in range(0, len(data), batch_size)]\n",
        "    np.random.shuffle(ndata)\n",
        "    data = []\n",
        "    for l in ndata: data += l\n",
        "    df = pd.DataFrame(data, columns=['filepath', 'normalized'])\n",
        "    df.to_pickle('EN_df.pkl')\n",
        "    # print total length of dataset in seconds\n",
        "    print(f'total seconds: {ts/16000}')\n",
        "    return df\n",
        "df = get_EN_df()\n",
        "df"
      ],
      "metadata": {
        "id": "onp18LqIVklW",
        "colab": {
          "base_uri": "https://localhost:8080/",
          "height": 458
        },
        "outputId": "3fceb685-b9cd-42ce-c0c2-202ae7b3ab49"
      },
      "execution_count": null,
      "outputs": [
        {
          "output_type": "stream",
          "name": "stderr",
          "text": [
            "100%|██████████| 5736/5736 [00:46<00:00, 124.08it/s]"
          ]
        },
        {
          "output_type": "stream",
          "name": "stdout",
          "text": [
            "total seconds: 23866.5826875\n"
          ]
        },
        {
          "output_type": "stream",
          "name": "stderr",
          "text": [
            "\n"
          ]
        },
        {
          "output_type": "execute_result",
          "data": {
            "text/plain": [
              "                                 filepath  \\\n",
              "0     clips/1462_170142_000046_000007.wav   \n",
              "1     clips/1462_170138_000001_000004.wav   \n",
              "2      clips/6241_61943_000036_000002.wav   \n",
              "3     clips/1919_142785_000005_000002.wav   \n",
              "4     clips/1919_142785_000116_000002.wav   \n",
              "...                                   ...   \n",
              "5147    clips/174_84280_000004_000000.wav   \n",
              "5148    clips/174_50561_000043_000000.wav   \n",
              "5149   clips/174_168635_000026_000003.wav   \n",
              "5150   clips/174_168635_000023_000000.wav   \n",
              "5151   clips/2428_83699_000013_000000.wav   \n",
              "\n",
              "                                             normalized  \n",
              "0     Then came all those years without you, lonely ...  \n",
              "1     He spoke with an extreme Oxford accent, and wh...  \n",
              "2     The other street, situated more to the west, r...  \n",
              "3     Originally, the most valuable of these were fo...  \n",
              "4     Let this again dry up by stirring over the fir...  \n",
              "...                                                 ...  \n",
              "5147       Life is so much fuller than any book can be.  \n",
              "5148       The third part of the game is seldom played.  \n",
              "5149       We all have in our past a delightful garret.  \n",
              "5150       The early days passed in this dazzled state.  \n",
              "5151       I knew nothing of the people I was going to.  \n",
              "\n",
              "[5152 rows x 2 columns]"
            ],
            "text/html": [
              "\n",
              "  <div id=\"df-b0f3619d-6294-45e2-86da-1caecf76b60e\">\n",
              "    <div class=\"colab-df-container\">\n",
              "      <div>\n",
              "<style scoped>\n",
              "    .dataframe tbody tr th:only-of-type {\n",
              "        vertical-align: middle;\n",
              "    }\n",
              "\n",
              "    .dataframe tbody tr th {\n",
              "        vertical-align: top;\n",
              "    }\n",
              "\n",
              "    .dataframe thead th {\n",
              "        text-align: right;\n",
              "    }\n",
              "</style>\n",
              "<table border=\"1\" class=\"dataframe\">\n",
              "  <thead>\n",
              "    <tr style=\"text-align: right;\">\n",
              "      <th></th>\n",
              "      <th>filepath</th>\n",
              "      <th>normalized</th>\n",
              "    </tr>\n",
              "  </thead>\n",
              "  <tbody>\n",
              "    <tr>\n",
              "      <th>0</th>\n",
              "      <td>clips/1462_170142_000046_000007.wav</td>\n",
              "      <td>Then came all those years without you, lonely ...</td>\n",
              "    </tr>\n",
              "    <tr>\n",
              "      <th>1</th>\n",
              "      <td>clips/1462_170138_000001_000004.wav</td>\n",
              "      <td>He spoke with an extreme Oxford accent, and wh...</td>\n",
              "    </tr>\n",
              "    <tr>\n",
              "      <th>2</th>\n",
              "      <td>clips/6241_61943_000036_000002.wav</td>\n",
              "      <td>The other street, situated more to the west, r...</td>\n",
              "    </tr>\n",
              "    <tr>\n",
              "      <th>3</th>\n",
              "      <td>clips/1919_142785_000005_000002.wav</td>\n",
              "      <td>Originally, the most valuable of these were fo...</td>\n",
              "    </tr>\n",
              "    <tr>\n",
              "      <th>4</th>\n",
              "      <td>clips/1919_142785_000116_000002.wav</td>\n",
              "      <td>Let this again dry up by stirring over the fir...</td>\n",
              "    </tr>\n",
              "    <tr>\n",
              "      <th>...</th>\n",
              "      <td>...</td>\n",
              "      <td>...</td>\n",
              "    </tr>\n",
              "    <tr>\n",
              "      <th>5147</th>\n",
              "      <td>clips/174_84280_000004_000000.wav</td>\n",
              "      <td>Life is so much fuller than any book can be.</td>\n",
              "    </tr>\n",
              "    <tr>\n",
              "      <th>5148</th>\n",
              "      <td>clips/174_50561_000043_000000.wav</td>\n",
              "      <td>The third part of the game is seldom played.</td>\n",
              "    </tr>\n",
              "    <tr>\n",
              "      <th>5149</th>\n",
              "      <td>clips/174_168635_000026_000003.wav</td>\n",
              "      <td>We all have in our past a delightful garret.</td>\n",
              "    </tr>\n",
              "    <tr>\n",
              "      <th>5150</th>\n",
              "      <td>clips/174_168635_000023_000000.wav</td>\n",
              "      <td>The early days passed in this dazzled state.</td>\n",
              "    </tr>\n",
              "    <tr>\n",
              "      <th>5151</th>\n",
              "      <td>clips/2428_83699_000013_000000.wav</td>\n",
              "      <td>I knew nothing of the people I was going to.</td>\n",
              "    </tr>\n",
              "  </tbody>\n",
              "</table>\n",
              "<p>5152 rows × 2 columns</p>\n",
              "</div>\n",
              "      <button class=\"colab-df-convert\" onclick=\"convertToInteractive('df-b0f3619d-6294-45e2-86da-1caecf76b60e')\"\n",
              "              title=\"Convert this dataframe to an interactive table.\"\n",
              "              style=\"display:none;\">\n",
              "        \n",
              "  <svg xmlns=\"http://www.w3.org/2000/svg\" height=\"24px\"viewBox=\"0 0 24 24\"\n",
              "       width=\"24px\">\n",
              "    <path d=\"M0 0h24v24H0V0z\" fill=\"none\"/>\n",
              "    <path d=\"M18.56 5.44l.94 2.06.94-2.06 2.06-.94-2.06-.94-.94-2.06-.94 2.06-2.06.94zm-11 1L8.5 8.5l.94-2.06 2.06-.94-2.06-.94L8.5 2.5l-.94 2.06-2.06.94zm10 10l.94 2.06.94-2.06 2.06-.94-2.06-.94-.94-2.06-.94 2.06-2.06.94z\"/><path d=\"M17.41 7.96l-1.37-1.37c-.4-.4-.92-.59-1.43-.59-.52 0-1.04.2-1.43.59L10.3 9.45l-7.72 7.72c-.78.78-.78 2.05 0 2.83L4 21.41c.39.39.9.59 1.41.59.51 0 1.02-.2 1.41-.59l7.78-7.78 2.81-2.81c.8-.78.8-2.07 0-2.86zM5.41 20L4 18.59l7.72-7.72 1.47 1.35L5.41 20z\"/>\n",
              "  </svg>\n",
              "      </button>\n",
              "      \n",
              "  <style>\n",
              "    .colab-df-container {\n",
              "      display:flex;\n",
              "      flex-wrap:wrap;\n",
              "      gap: 12px;\n",
              "    }\n",
              "\n",
              "    .colab-df-convert {\n",
              "      background-color: #E8F0FE;\n",
              "      border: none;\n",
              "      border-radius: 50%;\n",
              "      cursor: pointer;\n",
              "      display: none;\n",
              "      fill: #1967D2;\n",
              "      height: 32px;\n",
              "      padding: 0 0 0 0;\n",
              "      width: 32px;\n",
              "    }\n",
              "\n",
              "    .colab-df-convert:hover {\n",
              "      background-color: #E2EBFA;\n",
              "      box-shadow: 0px 1px 2px rgba(60, 64, 67, 0.3), 0px 1px 3px 1px rgba(60, 64, 67, 0.15);\n",
              "      fill: #174EA6;\n",
              "    }\n",
              "\n",
              "    [theme=dark] .colab-df-convert {\n",
              "      background-color: #3B4455;\n",
              "      fill: #D2E3FC;\n",
              "    }\n",
              "\n",
              "    [theme=dark] .colab-df-convert:hover {\n",
              "      background-color: #434B5C;\n",
              "      box-shadow: 0px 1px 3px 1px rgba(0, 0, 0, 0.15);\n",
              "      filter: drop-shadow(0px 1px 2px rgba(0, 0, 0, 0.3));\n",
              "      fill: #FFFFFF;\n",
              "    }\n",
              "  </style>\n",
              "\n",
              "      <script>\n",
              "        const buttonEl =\n",
              "          document.querySelector('#df-b0f3619d-6294-45e2-86da-1caecf76b60e button.colab-df-convert');\n",
              "        buttonEl.style.display =\n",
              "          google.colab.kernel.accessAllowed ? 'block' : 'none';\n",
              "\n",
              "        async function convertToInteractive(key) {\n",
              "          const element = document.querySelector('#df-b0f3619d-6294-45e2-86da-1caecf76b60e');\n",
              "          const dataTable =\n",
              "            await google.colab.kernel.invokeFunction('convertToInteractive',\n",
              "                                                     [key], {});\n",
              "          if (!dataTable) return;\n",
              "\n",
              "          const docLinkHtml = 'Like what you see? Visit the ' +\n",
              "            '<a target=\"_blank\" href=https://colab.research.google.com/notebooks/data_table.ipynb>data table notebook</a>'\n",
              "            + ' to learn more about interactive tables.';\n",
              "          element.innerHTML = '';\n",
              "          dataTable['output_type'] = 'display_data';\n",
              "          await google.colab.output.renderOutput(dataTable, element);\n",
              "          const docLink = document.createElement('div');\n",
              "          docLink.innerHTML = docLinkHtml;\n",
              "          element.appendChild(docLink);\n",
              "        }\n",
              "      </script>\n",
              "    </div>\n",
              "  </div>\n",
              "  "
            ]
          },
          "metadata": {},
          "execution_count": 8
        }
      ]
    },
    {
      "cell_type": "markdown",
      "source": [
        "## Split dataset"
      ],
      "metadata": {
        "id": "FB4wKGBIpvIK"
      }
    },
    {
      "cell_type": "code",
      "source": [
        "split = int(0.80*len(df))\n",
        "split -= split % batch_size\n",
        "df_train = df[:split]\n",
        "df_val = df[split:]\n",
        "print(f'train samples: {len(df_train)}')\n",
        "print(f'val samples: {len(df_val)}')\n",
        "df_train"
      ],
      "metadata": {
        "id": "IWff9ruXXOyj",
        "colab": {
          "base_uri": "https://localhost:8080/",
          "height": 458
        },
        "outputId": "8ec33095-9f2c-4039-d997-f425e9a10fb7"
      },
      "execution_count": null,
      "outputs": [
        {
          "output_type": "stream",
          "name": "stdout",
          "text": [
            "train samples: 4096\n",
            "val samples: 1056\n"
          ]
        },
        {
          "output_type": "execute_result",
          "data": {
            "text/plain": [
              "                                 filepath  \\\n",
              "0     clips/1462_170142_000046_000007.wav   \n",
              "1     clips/1462_170138_000001_000004.wav   \n",
              "2      clips/6241_61943_000036_000002.wav   \n",
              "3     clips/1919_142785_000005_000002.wav   \n",
              "4     clips/1919_142785_000116_000002.wav   \n",
              "...                                   ...   \n",
              "4091  clips/6295_244435_000034_000000.wav   \n",
              "4092  clips/1993_147965_000007_000003.wav   \n",
              "4093  clips/1993_147966_000007_000003.wav   \n",
              "4094   clips/2428_83705_000009_000000.wav   \n",
              "4095  clips/2035_147961_000007_000003.wav   \n",
              "\n",
              "                                             normalized  \n",
              "0     Then came all those years without you, lonely ...  \n",
              "1     He spoke with an extreme Oxford accent, and wh...  \n",
              "2     The other street, situated more to the west, r...  \n",
              "3     Originally, the most valuable of these were fo...  \n",
              "4     Let this again dry up by stirring over the fir...  \n",
              "...                                                 ...  \n",
              "4091  \"If you've got pistols, just you think once be...  \n",
              "4092  As we turned back to the sitting room, grandfa...  \n",
              "4093  At home he play violin all the time; for weddi...  \n",
              "4094  There was William Henry, john Frank, Ferdinand...  \n",
              "4095  The firelight flickered on the hewn logs that ...  \n",
              "\n",
              "[4096 rows x 2 columns]"
            ],
            "text/html": [
              "\n",
              "  <div id=\"df-ab3e2ba3-5690-4e34-8de5-bd59ef9341e7\">\n",
              "    <div class=\"colab-df-container\">\n",
              "      <div>\n",
              "<style scoped>\n",
              "    .dataframe tbody tr th:only-of-type {\n",
              "        vertical-align: middle;\n",
              "    }\n",
              "\n",
              "    .dataframe tbody tr th {\n",
              "        vertical-align: top;\n",
              "    }\n",
              "\n",
              "    .dataframe thead th {\n",
              "        text-align: right;\n",
              "    }\n",
              "</style>\n",
              "<table border=\"1\" class=\"dataframe\">\n",
              "  <thead>\n",
              "    <tr style=\"text-align: right;\">\n",
              "      <th></th>\n",
              "      <th>filepath</th>\n",
              "      <th>normalized</th>\n",
              "    </tr>\n",
              "  </thead>\n",
              "  <tbody>\n",
              "    <tr>\n",
              "      <th>0</th>\n",
              "      <td>clips/1462_170142_000046_000007.wav</td>\n",
              "      <td>Then came all those years without you, lonely ...</td>\n",
              "    </tr>\n",
              "    <tr>\n",
              "      <th>1</th>\n",
              "      <td>clips/1462_170138_000001_000004.wav</td>\n",
              "      <td>He spoke with an extreme Oxford accent, and wh...</td>\n",
              "    </tr>\n",
              "    <tr>\n",
              "      <th>2</th>\n",
              "      <td>clips/6241_61943_000036_000002.wav</td>\n",
              "      <td>The other street, situated more to the west, r...</td>\n",
              "    </tr>\n",
              "    <tr>\n",
              "      <th>3</th>\n",
              "      <td>clips/1919_142785_000005_000002.wav</td>\n",
              "      <td>Originally, the most valuable of these were fo...</td>\n",
              "    </tr>\n",
              "    <tr>\n",
              "      <th>4</th>\n",
              "      <td>clips/1919_142785_000116_000002.wav</td>\n",
              "      <td>Let this again dry up by stirring over the fir...</td>\n",
              "    </tr>\n",
              "    <tr>\n",
              "      <th>...</th>\n",
              "      <td>...</td>\n",
              "      <td>...</td>\n",
              "    </tr>\n",
              "    <tr>\n",
              "      <th>4091</th>\n",
              "      <td>clips/6295_244435_000034_000000.wav</td>\n",
              "      <td>\"If you've got pistols, just you think once be...</td>\n",
              "    </tr>\n",
              "    <tr>\n",
              "      <th>4092</th>\n",
              "      <td>clips/1993_147965_000007_000003.wav</td>\n",
              "      <td>As we turned back to the sitting room, grandfa...</td>\n",
              "    </tr>\n",
              "    <tr>\n",
              "      <th>4093</th>\n",
              "      <td>clips/1993_147966_000007_000003.wav</td>\n",
              "      <td>At home he play violin all the time; for weddi...</td>\n",
              "    </tr>\n",
              "    <tr>\n",
              "      <th>4094</th>\n",
              "      <td>clips/2428_83705_000009_000000.wav</td>\n",
              "      <td>There was William Henry, john Frank, Ferdinand...</td>\n",
              "    </tr>\n",
              "    <tr>\n",
              "      <th>4095</th>\n",
              "      <td>clips/2035_147961_000007_000003.wav</td>\n",
              "      <td>The firelight flickered on the hewn logs that ...</td>\n",
              "    </tr>\n",
              "  </tbody>\n",
              "</table>\n",
              "<p>4096 rows × 2 columns</p>\n",
              "</div>\n",
              "      <button class=\"colab-df-convert\" onclick=\"convertToInteractive('df-ab3e2ba3-5690-4e34-8de5-bd59ef9341e7')\"\n",
              "              title=\"Convert this dataframe to an interactive table.\"\n",
              "              style=\"display:none;\">\n",
              "        \n",
              "  <svg xmlns=\"http://www.w3.org/2000/svg\" height=\"24px\"viewBox=\"0 0 24 24\"\n",
              "       width=\"24px\">\n",
              "    <path d=\"M0 0h24v24H0V0z\" fill=\"none\"/>\n",
              "    <path d=\"M18.56 5.44l.94 2.06.94-2.06 2.06-.94-2.06-.94-.94-2.06-.94 2.06-2.06.94zm-11 1L8.5 8.5l.94-2.06 2.06-.94-2.06-.94L8.5 2.5l-.94 2.06-2.06.94zm10 10l.94 2.06.94-2.06 2.06-.94-2.06-.94-.94-2.06-.94 2.06-2.06.94z\"/><path d=\"M17.41 7.96l-1.37-1.37c-.4-.4-.92-.59-1.43-.59-.52 0-1.04.2-1.43.59L10.3 9.45l-7.72 7.72c-.78.78-.78 2.05 0 2.83L4 21.41c.39.39.9.59 1.41.59.51 0 1.02-.2 1.41-.59l7.78-7.78 2.81-2.81c.8-.78.8-2.07 0-2.86zM5.41 20L4 18.59l7.72-7.72 1.47 1.35L5.41 20z\"/>\n",
              "  </svg>\n",
              "      </button>\n",
              "      \n",
              "  <style>\n",
              "    .colab-df-container {\n",
              "      display:flex;\n",
              "      flex-wrap:wrap;\n",
              "      gap: 12px;\n",
              "    }\n",
              "\n",
              "    .colab-df-convert {\n",
              "      background-color: #E8F0FE;\n",
              "      border: none;\n",
              "      border-radius: 50%;\n",
              "      cursor: pointer;\n",
              "      display: none;\n",
              "      fill: #1967D2;\n",
              "      height: 32px;\n",
              "      padding: 0 0 0 0;\n",
              "      width: 32px;\n",
              "    }\n",
              "\n",
              "    .colab-df-convert:hover {\n",
              "      background-color: #E2EBFA;\n",
              "      box-shadow: 0px 1px 2px rgba(60, 64, 67, 0.3), 0px 1px 3px 1px rgba(60, 64, 67, 0.15);\n",
              "      fill: #174EA6;\n",
              "    }\n",
              "\n",
              "    [theme=dark] .colab-df-convert {\n",
              "      background-color: #3B4455;\n",
              "      fill: #D2E3FC;\n",
              "    }\n",
              "\n",
              "    [theme=dark] .colab-df-convert:hover {\n",
              "      background-color: #434B5C;\n",
              "      box-shadow: 0px 1px 3px 1px rgba(0, 0, 0, 0.15);\n",
              "      filter: drop-shadow(0px 1px 2px rgba(0, 0, 0, 0.3));\n",
              "      fill: #FFFFFF;\n",
              "    }\n",
              "  </style>\n",
              "\n",
              "      <script>\n",
              "        const buttonEl =\n",
              "          document.querySelector('#df-ab3e2ba3-5690-4e34-8de5-bd59ef9341e7 button.colab-df-convert');\n",
              "        buttonEl.style.display =\n",
              "          google.colab.kernel.accessAllowed ? 'block' : 'none';\n",
              "\n",
              "        async function convertToInteractive(key) {\n",
              "          const element = document.querySelector('#df-ab3e2ba3-5690-4e34-8de5-bd59ef9341e7');\n",
              "          const dataTable =\n",
              "            await google.colab.kernel.invokeFunction('convertToInteractive',\n",
              "                                                     [key], {});\n",
              "          if (!dataTable) return;\n",
              "\n",
              "          const docLinkHtml = 'Like what you see? Visit the ' +\n",
              "            '<a target=\"_blank\" href=https://colab.research.google.com/notebooks/data_table.ipynb>data table notebook</a>'\n",
              "            + ' to learn more about interactive tables.';\n",
              "          element.innerHTML = '';\n",
              "          dataTable['output_type'] = 'display_data';\n",
              "          await google.colab.output.renderOutput(dataTable, element);\n",
              "          const docLink = document.createElement('div');\n",
              "          docLink.innerHTML = docLinkHtml;\n",
              "          element.appendChild(docLink);\n",
              "        }\n",
              "      </script>\n",
              "    </div>\n",
              "  </div>\n",
              "  "
            ]
          },
          "metadata": {},
          "execution_count": 9
        }
      ]
    },
    {
      "cell_type": "markdown",
      "source": [
        "## Define util functions"
      ],
      "metadata": {
        "id": "a53qAW0zpzmV"
      }
    },
    {
      "cell_type": "code",
      "source": [
        "VOCAB_LEN = len(VOCAB)\n",
        "# label encoder\n",
        "char_to_num = tf.keras.layers.StringLookup(vocabulary=VOCAB, oov_token=\"\", name=\"char_to_num\")\n",
        "# label decoder\n",
        "num_to_char = tf.keras.layers.StringLookup(\n",
        "    vocabulary=char_to_num.get_vocabulary(), oov_token=\"\", invert=True,  name=\"num_to_char\"\n",
        ")\n",
        "# print vocabulary and its length\n",
        "print(char_to_num.get_vocabulary())\n",
        "print(VOCAB_LEN)"
      ],
      "metadata": {
        "colab": {
          "base_uri": "https://localhost:8080/"
        },
        "id": "bMHgqxtBffIY",
        "outputId": "3f2aa458-483c-4761-8142-a417587ca266"
      },
      "execution_count": null,
      "outputs": [
        {
          "output_type": "stream",
          "name": "stdout",
          "text": [
            "['', ' ', 'a', 'b', 'c', 'd', 'e', 'f', 'g', 'h', 'i', 'j', 'k', 'l', 'm', 'n', 'o', 'p', 'q', 'r', 's', 't', 'u', 'v', 'w', 'x', 'y', 'z', \"'\"]\n",
            "28\n"
          ]
        }
      ]
    },
    {
      "cell_type": "markdown",
      "source": [
        "## Feature extraction"
      ],
      "metadata": {
        "id": "cGtKMIzip5my"
      }
    },
    {
      "cell_type": "code",
      "source": [
        "@tf.function\n",
        "def cmvn_norm(features):\n",
        "    '''\n",
        "    perform CMVN normalization to an array of features\n",
        "    \n",
        "    https://en.wikipedia.org/wiki/Cepstral_mean_and_variance_normalization\n",
        "    '''\n",
        "    means = tf.math.reduce_mean(features, axis=1, keepdims=True)\n",
        "    var = tf.math.reduce_variance(features, axis=1, keepdims=True)\n",
        "    stds = tf.math.sqrt(var) + 1e-10\n",
        "    features = tf.math.subtract(features, means)\n",
        "    features = tf.math.truediv(features, stds)\n",
        "    return features"
      ],
      "metadata": {
        "id": "YfhhAYpyhRzO"
      },
      "execution_count": null,
      "outputs": []
    },
    {
      "cell_type": "code",
      "source": [
        "spec_frame_length = 128\n",
        "spec_frame_step = 64\n",
        "spec_fft_length = 128\n",
        "\n",
        "n_mfccs = 40\n",
        "mfcc_frame_length = 512\n",
        "mfcc_frame_step = 256\n",
        "mfcc_fft_length = 512"
      ],
      "metadata": {
        "id": "UKAKxpx0m8_W"
      },
      "execution_count": null,
      "outputs": []
    },
    {
      "cell_type": "markdown",
      "source": [
        "### Raw"
      ],
      "metadata": {
        "id": "rmloUc0ln72h"
      }
    },
    {
      "cell_type": "code",
      "source": [
        "def feature_raw(audio, w = 40, o = 20):\n",
        "    sh = (audio.size - w + 1, w)\n",
        "    st = audio.strides * 2\n",
        "    return np.lib.stride_tricks.as_strided(audio, strides = st, shape = sh)[0::o]"
      ],
      "metadata": {
        "id": "hehvjZE2n-tM"
      },
      "execution_count": null,
      "outputs": []
    },
    {
      "cell_type": "markdown",
      "source": [
        "### MFCC"
      ],
      "metadata": {
        "id": "42ti1th8qGmu"
      }
    },
    {
      "cell_type": "code",
      "source": [
        "@tf.function\n",
        "def feature_mfcc(audio, n_mfccs):\n",
        "    '''\n",
        "    extract mfcc, delta and delta-delta features from an audio clip\n",
        "    \n",
        "    https://speechprocessingbook.aalto.fi/Representations/Melcepstrum.html\n",
        "    '''\n",
        "    # calculate 512-point STFT with frames of 32 ms and 50% overlap.\n",
        "    stfts = tf.signal.stft(audio, frame_length=mfcc_frame_length, frame_step=mfcc_frame_step,\n",
        "                        fft_length=mfcc_fft_length, pad_end=True)\n",
        "    spectrograms = tf.abs(stfts)\n",
        "    # Warp the linear scale spectrograms into the mel-scale.\n",
        "    num_spectrogram_bins = tf.shape(stfts)[-1]\n",
        "    lower_edge_hertz, upper_edge_hertz, num_mel_bins = 20.0, 8000.0, 40\n",
        "    mel_weight_matrix = tf.signal.linear_to_mel_weight_matrix(\n",
        "        num_mel_bins, num_spectrogram_bins, 16000, lower_edge_hertz,\n",
        "        upper_edge_hertz)\n",
        "    mel_spectrograms = tf.matmul(spectrograms, mel_weight_matrix)\n",
        "\n",
        "    # Compute a stabilized log to get log-magnitude mel-scale spectrograms.\n",
        "    log_mel_spectrograms = tf.math.log(mel_spectrograms + 1e-6)\n",
        "\n",
        "    mfccs = tf.signal.mfccs_from_log_mel_spectrograms(log_mel_spectrograms)\n",
        "    \n",
        "    # apply cmvn\n",
        "    mfccs = cmvn_norm(mfccs)\n",
        "\n",
        "    mfccs = tf.expand_dims(mfccs, axis=-1)\n",
        "    return mfccs"
      ],
      "metadata": {
        "id": "pRiFTfHliioT"
      },
      "execution_count": null,
      "outputs": []
    },
    {
      "cell_type": "markdown",
      "source": [
        "### MFCC, delta & delta-delta"
      ],
      "metadata": {
        "id": "yiE_ci2nqJMg"
      }
    },
    {
      "cell_type": "code",
      "source": [
        "@tf.function\n",
        "def feature_mfcc_delta(audio, n_mfccs):\n",
        "    '''\n",
        "    extract mfcc, delta and delta-delta features from an audio clip\n",
        "    \n",
        "    https://speechprocessingbook.aalto.fi/Representations/Melcepstrum.html\n",
        "    https://speechprocessingbook.aalto.fi/Representations/Deltas_and_Delta-deltas.html\n",
        "    '''\n",
        "    # calculate 512-point STFT with frames of 32 ms and 50% overlap.\n",
        "    stfts = tf.signal.stft(audio, frame_length=mfcc_frame_length, frame_step=mfcc_frame_step,\n",
        "                        fft_length=mfcc_fft_length, pad_end=True)\n",
        "    spectrograms = tf.abs(stfts)\n",
        "    # Warp the linear scale spectrograms into the mel-scale.\n",
        "    num_spectrogram_bins = tf.shape(stfts)[-1]\n",
        "    lower_edge_hertz, upper_edge_hertz, num_mel_bins = 20.0, 8000.0, 40\n",
        "    mel_weight_matrix = tf.signal.linear_to_mel_weight_matrix(\n",
        "        num_mel_bins, num_spectrogram_bins, 16000, lower_edge_hertz,\n",
        "        upper_edge_hertz)\n",
        "    mel_spectrograms = tf.matmul(spectrograms, mel_weight_matrix)\n",
        "\n",
        "    # Compute a stabilized log to get log-magnitude mel-scale spectrograms.\n",
        "    log_mel_spectrograms = tf.math.log(mel_spectrograms + 1e-6)\n",
        "\n",
        "    mfccs = tf.signal.mfccs_from_log_mel_spectrograms(log_mel_spectrograms)\n",
        "    padding = tf.constant([[1, 0], [0, 0]])\n",
        "    delta = mfccs - tf.pad(mfccs[:-1], padding, mode=\"CONSTANT\", constant_values=0)\n",
        "    delta_delta = delta - tf.pad(delta[:-1], padding, mode=\"CONSTANT\", constant_values=0)\n",
        "\n",
        "    # apply cmvn\n",
        "    mfccs = cmvn_norm(mfccs)\n",
        "    delta = cmvn_norm(delta)\n",
        "    delta_delta = cmvn_norm(delta_delta)\n",
        "\n",
        "    features = tf.stack([mfccs, delta, delta_delta], axis=-1)\n",
        "    return features"
      ],
      "metadata": {
        "id": "ctRUvAM3jMoo"
      },
      "execution_count": null,
      "outputs": []
    },
    {
      "cell_type": "markdown",
      "source": [
        "## Create datasets"
      ],
      "metadata": {
        "id": "u0CcjXbjqSd-"
      }
    },
    {
      "cell_type": "code",
      "source": [
        "def get_single_sample_raw(wav_path, label):\n",
        "    audio, sr = librosa.load(wav_path, sr=1600)\n",
        "    features = tf.convert_to_tensor(feature_raw(audio, 40, 20), dtype=tf.float32)\n",
        "    features = tf.expand_dims(features, axis=-1)\n",
        "    label = tf.strings.lower(label)\n",
        "    label = tf.strings.unicode_split(label, input_encoding=\"UTF-8\")\n",
        "    label = char_to_num(label)\n",
        "    return features, label\n",
        "\n",
        "def generator_raw(df):\n",
        "    for wav_path, label in df:\n",
        "        yield get_single_sample_raw(wav_path.decode(), label.decode())\n",
        "\n",
        "@tf.function\n",
        "def get_single_sample_mfcc(wav_path, label):\n",
        "    '''\n",
        "    get sigle features, label pair for an audio file\n",
        "    '''\n",
        "    file = tf.io.read_file(wav_path)\n",
        "    audio, _ = tf.audio.decode_wav(file)\n",
        "    audio = tf.squeeze(audio, axis=-1)\n",
        "    audio = tf.cast(audio, tf.float32)\n",
        "    features = feature_mfcc(audio, n_mfccs=n_mfccs)\n",
        "    label = tf.strings.lower(label)\n",
        "    label = tf.strings.unicode_split(label, input_encoding=\"UTF-8\")\n",
        "    label = char_to_num(label)\n",
        "    return features, label\n",
        "\n",
        "@tf.function\n",
        "def get_single_sample_mfcc_delta(wav_path, label):\n",
        "    '''\n",
        "    get sigle features, label pair for an audio file\n",
        "    '''\n",
        "    file = tf.io.read_file(wav_path)\n",
        "    audio, _ = tf.audio.decode_wav(file)\n",
        "    audio = tf.squeeze(audio, axis=-1)\n",
        "    audio = tf.cast(audio, tf.float32)\n",
        "    features = feature_mfcc_delta(audio, n_mfccs=n_mfccs)\n",
        "    label = tf.strings.lower(label)\n",
        "    label = tf.strings.unicode_split(label, input_encoding=\"UTF-8\")\n",
        "    label = char_to_num(label)\n",
        "    return features, label"
      ],
      "metadata": {
        "id": "J1O9LiIRX3Yc"
      },
      "execution_count": null,
      "outputs": []
    },
    {
      "cell_type": "code",
      "source": [
        "def create_dataset(df, feature, cache_dir):\n",
        "    # remove cache directory if exists\n",
        "    cache_dir = Path(cache_dir)\n",
        "    if cache_dir.exists():\n",
        "        shutil.rmtree(cache_dir)\n",
        "    cache_dir.mkdir(parents=True)\n",
        "    # create dataset\n",
        "    if feature == 'raw':\n",
        "        dataset = tf.data.Dataset.from_generator(\n",
        "            generator_raw,\n",
        "            args=(df,),\n",
        "            output_signature=(\n",
        "                tf.TensorSpec(shape=(None, 40, 1), dtype=tf.float32),\n",
        "                tf.TensorSpec(shape=(None,), dtype=tf.int64)\n",
        "                )\n",
        "            )\n",
        "    else:\n",
        "        dataset = tf.data.Dataset.from_tensor_slices(\n",
        "            (list(df[\"filepath\"]), list(df[\"normalized\"]))\n",
        "        )\n",
        "        if feature == 'mfcc':\n",
        "            dataset = dataset.map(get_single_sample_mfcc, num_parallel_calls=tf.data.AUTOTUNE)\n",
        "        elif feature == 'mfcc_delta':\n",
        "            dataset = dataset.map(get_single_sample_mfcc_delta, num_parallel_calls=tf.data.AUTOTUNE)\n",
        "        else: raise ValueError(f'Invalid feature: {feature}')\n",
        "    dataset = (\n",
        "        dataset.padded_batch(batch_size)\n",
        "               .cache(str(cache_dir))\n",
        "               .prefetch(buffer_size=tf.data.AUTOTUNE)\n",
        "        )\n",
        "    return dataset"
      ],
      "metadata": {
        "id": "XlqO1c-mX_47"
      },
      "execution_count": null,
      "outputs": []
    },
    {
      "cell_type": "code",
      "source": [
        "!rm -r ds_cache\n",
        "\n",
        "ds_train_raw = create_dataset(df_train, 'raw', '/content/ds_cache/raw/train/')\n",
        "ds_val_raw = create_dataset(df_val, 'raw', '/content/ds_cache/raw/val/')\n",
        "\n",
        "ds_train_mfcc = create_dataset(df_train, 'mfcc', '/content/ds_cache/mfcc/train/')\n",
        "ds_val_mfcc = create_dataset(df_val, 'mfcc', '/content/ds_cache/mfcc/val/')\n",
        "\n",
        "ds_train_mfcc_delta = create_dataset(df_train, 'mfcc_delta', '/content/ds_cache/mfcc_delta/train/')\n",
        "ds_val_mfcc_delta = create_dataset(df_val, 'mfcc_delta', '/content/ds_cache/mfcc_delta/val/')"
      ],
      "metadata": {
        "id": "Tt8JLOXIe-_S"
      },
      "execution_count": null,
      "outputs": []
    },
    {
      "cell_type": "code",
      "source": [
        "for b in ds_val_raw.take(1):\n",
        "    print(b[0].shape)\n",
        "\n",
        "for b in ds_val_mfcc.take(1):\n",
        "    print(b[0].shape)\n",
        "\n",
        "for b in ds_val_mfcc_delta.take(1):\n",
        "    print(b[0].shape)"
      ],
      "metadata": {
        "colab": {
          "base_uri": "https://localhost:8080/"
        },
        "id": "20BXsW7omh5e",
        "outputId": "6b901b0f-53bd-411e-cceb-822f93389834"
      },
      "execution_count": null,
      "outputs": [
        {
          "output_type": "stream",
          "name": "stdout",
          "text": [
            "(32, 485, 40, 1)\n",
            "(32, 380, 40, 1)\n",
            "(32, 380, 40, 3)\n"
          ]
        }
      ]
    },
    {
      "cell_type": "markdown",
      "source": [
        "## Model creation"
      ],
      "metadata": {
        "id": "37I5wg3NqYy3"
      }
    },
    {
      "cell_type": "code",
      "source": [
        "@tf.function\n",
        "def CTCLoss(labels, logits):\n",
        "    '''\n",
        "    CTC loss function\n",
        "    \n",
        "    https://distill.pub/2017/ctc/\n",
        "    '''\n",
        "    batch_size = tf.shape(labels)[0]\n",
        "    label_length = tf.shape(labels)[1]\n",
        "    logit_length = tf.shape(logits)[1]\n",
        "    label_length = tf.fill((batch_size, ), label_length)\n",
        "    logit_length = tf.fill((batch_size, ), logit_length)\n",
        "    loss = tf.nn.ctc_loss(labels, logits, label_length, logit_length, logits_time_major=False, blank_index=-1)\n",
        "    return loss"
      ],
      "metadata": {
        "id": "HHJmiyYlgCOo"
      },
      "execution_count": null,
      "outputs": []
    },
    {
      "cell_type": "code",
      "source": [
        "def conv_block(n, filters, kernel, dropout, input_):\n",
        "    '''\n",
        "    SeparableConv2D layer block\n",
        "    '''\n",
        "    output = layers.SeparableConv2D(\n",
        "        filters=filters,\n",
        "        kernel_size=kernel,\n",
        "        data_format='channels_last',\n",
        "        name=f'sconv2d_{n}'\n",
        "\t  )(input_)\n",
        "    output = layers.ReLU(\n",
        "        name=f'relu_{n}'\n",
        "    )(output)\n",
        "    output = layers.Dropout(\n",
        "        rate=dropout\n",
        "    )(output)\n",
        "    output = layers.BatchNormalization(\n",
        "        axis=-1, \n",
        "        name=f'normalization_{n}'\n",
        "    )(output)\n",
        "    return output\n",
        "\n",
        "def rnn_block(n, units, dropout, input_):\n",
        "    '''\n",
        "    Bidirectional GRU layer block\n",
        "    '''\n",
        "    layer = layers.GRU(\n",
        "        units=units,\n",
        "        return_sequences=True,\n",
        "        name=f'gru_{n}'\n",
        "    )\n",
        "    output = layers.Bidirectional(\n",
        "        layer=layer,\n",
        "        merge_mode='concat',\n",
        "        name=f'bidirectional_{n}'\n",
        "    )(input_)\n",
        "    output = layers.Dropout(\n",
        "        rate=dropout\n",
        "    )(output)\n",
        "    return output\n",
        "\n",
        "def build_model(input_shape):\n",
        "    '''\n",
        "    build and compile the model\n",
        "    '''\n",
        "    input_ = layers.Input(\n",
        "        shape=input_shape,\n",
        "        name='input'\n",
        "    )\n",
        "    output = conv_block(1, 64, (7,1), 0.20, input_)\n",
        "    output = conv_block(2, 64, (7,1), 0.20, output)\n",
        "    \n",
        "    # reshape the output received from convolutional layers to a compatible shape to feed into the RNN layers\n",
        "    output = layers.Reshape(\n",
        "        target_shape=(-1, output.shape[-2] * output.shape[-1])\n",
        "    )(output)\n",
        "\n",
        "    output = rnn_block(1, 512, 0.20, output)\n",
        "    output = rnn_block(2, 1024, 0.20, output)\n",
        "    output = rnn_block(3, 512, 0.00, output)\n",
        "    \n",
        "    # output length will be VOCAB_LEN+1. extra label is used as CTC blank token\n",
        "    output = layers.Dense(\n",
        "        units=VOCAB_LEN + 1, \n",
        "        activation=None, # CTCLoss performs softmax\n",
        "        name='dense'\n",
        "    )(output)\n",
        "\n",
        "    model = tf.keras.Model(input_, output, name='Speech2Text-EN')\n",
        "    opt = tf.keras.optimizers.Adam()\n",
        "    model.compile(optimizer=opt, loss=CTCLoss)\n",
        "    return model"
      ],
      "metadata": {
        "id": "hHMtIoYGgEqB"
      },
      "execution_count": null,
      "outputs": []
    },
    {
      "cell_type": "code",
      "source": [
        "raw_model = build_model((None, 40, 1))\n",
        "raw_model.summary()"
      ],
      "metadata": {
        "colab": {
          "base_uri": "https://localhost:8080/"
        },
        "id": "iciYlKR2q4Q5",
        "outputId": "29a384cd-35e0-412d-88d9-0d86a2b0c129"
      },
      "execution_count": null,
      "outputs": [
        {
          "output_type": "stream",
          "name": "stdout",
          "text": [
            "Model: \"Speech2Text-EN\"\n",
            "_________________________________________________________________\n",
            " Layer (type)                Output Shape              Param #   \n",
            "=================================================================\n",
            " input (InputLayer)          [(None, None, 40, 1)]     0         \n",
            "                                                                 \n",
            " sconv2d_1 (SeparableConv2D)  (None, None, 40, 64)     135       \n",
            "                                                                 \n",
            " relu_1 (ReLU)               (None, None, 40, 64)      0         \n",
            "                                                                 \n",
            " dropout_5 (Dropout)         (None, None, 40, 64)      0         \n",
            "                                                                 \n",
            " normalization_1 (BatchNorma  (None, None, 40, 64)     256       \n",
            " lization)                                                       \n",
            "                                                                 \n",
            " sconv2d_2 (SeparableConv2D)  (None, None, 40, 64)     4608      \n",
            "                                                                 \n",
            " relu_2 (ReLU)               (None, None, 40, 64)      0         \n",
            "                                                                 \n",
            " dropout_6 (Dropout)         (None, None, 40, 64)      0         \n",
            "                                                                 \n",
            " normalization_2 (BatchNorma  (None, None, 40, 64)     256       \n",
            " lization)                                                       \n",
            "                                                                 \n",
            " reshape_1 (Reshape)         (None, None, 2560)        0         \n",
            "                                                                 \n",
            " bidirectional_1 (Bidirectio  (None, None, 1024)       9443328   \n",
            " nal)                                                            \n",
            "                                                                 \n",
            " dropout_7 (Dropout)         (None, None, 1024)        0         \n",
            "                                                                 \n",
            " bidirectional_2 (Bidirectio  (None, None, 2048)       12595200  \n",
            " nal)                                                            \n",
            "                                                                 \n",
            " dropout_8 (Dropout)         (None, None, 2048)        0         \n",
            "                                                                 \n",
            " bidirectional_3 (Bidirectio  (None, None, 1024)       7870464   \n",
            " nal)                                                            \n",
            "                                                                 \n",
            " dropout_9 (Dropout)         (None, None, 1024)        0         \n",
            "                                                                 \n",
            " dense (Dense)               (None, None, 29)          29725     \n",
            "                                                                 \n",
            "=================================================================\n",
            "Total params: 29,943,972\n",
            "Trainable params: 29,943,716\n",
            "Non-trainable params: 256\n",
            "_________________________________________________________________\n"
          ]
        }
      ]
    },
    {
      "cell_type": "code",
      "source": [
        "mfcc_model = build_model((None, n_mfccs, 1))\n",
        "mfcc_model.summary()"
      ],
      "metadata": {
        "colab": {
          "base_uri": "https://localhost:8080/"
        },
        "id": "-ltHadktgSQ4",
        "outputId": "a0bacf2c-eb20-4214-82c4-a5eeb83a0d9e"
      },
      "execution_count": null,
      "outputs": [
        {
          "output_type": "stream",
          "name": "stdout",
          "text": [
            "Model: \"Speech2Text-EN\"\n",
            "_________________________________________________________________\n",
            " Layer (type)                Output Shape              Param #   \n",
            "=================================================================\n",
            " input (InputLayer)          [(None, None, 40, 1)]     0         \n",
            "                                                                 \n",
            " sconv2d_1 (SeparableConv2D)  (None, None, 40, 64)     135       \n",
            "                                                                 \n",
            " relu_1 (ReLU)               (None, None, 40, 64)      0         \n",
            "                                                                 \n",
            " dropout_5 (Dropout)         (None, None, 40, 64)      0         \n",
            "                                                                 \n",
            " normalization_1 (BatchNorma  (None, None, 40, 64)     256       \n",
            " lization)                                                       \n",
            "                                                                 \n",
            " sconv2d_2 (SeparableConv2D)  (None, None, 40, 64)     4608      \n",
            "                                                                 \n",
            " relu_2 (ReLU)               (None, None, 40, 64)      0         \n",
            "                                                                 \n",
            " dropout_6 (Dropout)         (None, None, 40, 64)      0         \n",
            "                                                                 \n",
            " normalization_2 (BatchNorma  (None, None, 40, 64)     256       \n",
            " lization)                                                       \n",
            "                                                                 \n",
            " reshape_1 (Reshape)         (None, None, 2560)        0         \n",
            "                                                                 \n",
            " bidirectional_1 (Bidirectio  (None, None, 1024)       9443328   \n",
            " nal)                                                            \n",
            "                                                                 \n",
            " dropout_7 (Dropout)         (None, None, 1024)        0         \n",
            "                                                                 \n",
            " bidirectional_2 (Bidirectio  (None, None, 2048)       12595200  \n",
            " nal)                                                            \n",
            "                                                                 \n",
            " dropout_8 (Dropout)         (None, None, 2048)        0         \n",
            "                                                                 \n",
            " bidirectional_3 (Bidirectio  (None, None, 1024)       7870464   \n",
            " nal)                                                            \n",
            "                                                                 \n",
            " dropout_9 (Dropout)         (None, None, 1024)        0         \n",
            "                                                                 \n",
            " dense (Dense)               (None, None, 29)          29725     \n",
            "                                                                 \n",
            "=================================================================\n",
            "Total params: 29,943,972\n",
            "Trainable params: 29,943,716\n",
            "Non-trainable params: 256\n",
            "_________________________________________________________________\n"
          ]
        }
      ]
    },
    {
      "cell_type": "code",
      "source": [
        "mfcc_delta_model = build_model((None, n_mfccs, 3))\n",
        "mfcc_delta_model.summary()"
      ],
      "metadata": {
        "colab": {
          "base_uri": "https://localhost:8080/"
        },
        "id": "FQ1J-POtnnYf",
        "outputId": "1743da6d-12d3-41b9-ab3f-d1b6dcca5153"
      },
      "execution_count": null,
      "outputs": [
        {
          "output_type": "stream",
          "name": "stdout",
          "text": [
            "Model: \"Speech2Text-EN\"\n",
            "_________________________________________________________________\n",
            " Layer (type)                Output Shape              Param #   \n",
            "=================================================================\n",
            " input (InputLayer)          [(None, None, 40, 3)]     0         \n",
            "                                                                 \n",
            " sconv2d_1 (SeparableConv2D)  (None, None, 40, 64)     277       \n",
            "                                                                 \n",
            " relu_1 (ReLU)               (None, None, 40, 64)      0         \n",
            "                                                                 \n",
            " dropout_10 (Dropout)        (None, None, 40, 64)      0         \n",
            "                                                                 \n",
            " normalization_1 (BatchNorma  (None, None, 40, 64)     256       \n",
            " lization)                                                       \n",
            "                                                                 \n",
            " sconv2d_2 (SeparableConv2D)  (None, None, 40, 64)     4608      \n",
            "                                                                 \n",
            " relu_2 (ReLU)               (None, None, 40, 64)      0         \n",
            "                                                                 \n",
            " dropout_11 (Dropout)        (None, None, 40, 64)      0         \n",
            "                                                                 \n",
            " normalization_2 (BatchNorma  (None, None, 40, 64)     256       \n",
            " lization)                                                       \n",
            "                                                                 \n",
            " reshape_2 (Reshape)         (None, None, 2560)        0         \n",
            "                                                                 \n",
            " bidirectional_1 (Bidirectio  (None, None, 1024)       9443328   \n",
            " nal)                                                            \n",
            "                                                                 \n",
            " dropout_12 (Dropout)        (None, None, 1024)        0         \n",
            "                                                                 \n",
            " bidirectional_2 (Bidirectio  (None, None, 2048)       12595200  \n",
            " nal)                                                            \n",
            "                                                                 \n",
            " dropout_13 (Dropout)        (None, None, 2048)        0         \n",
            "                                                                 \n",
            " bidirectional_3 (Bidirectio  (None, None, 1024)       7870464   \n",
            " nal)                                                            \n",
            "                                                                 \n",
            " dropout_14 (Dropout)        (None, None, 1024)        0         \n",
            "                                                                 \n",
            " dense (Dense)               (None, None, 29)          29725     \n",
            "                                                                 \n",
            "=================================================================\n",
            "Total params: 29,944,114\n",
            "Trainable params: 29,943,858\n",
            "Non-trainable params: 256\n",
            "_________________________________________________________________\n"
          ]
        }
      ]
    },
    {
      "cell_type": "markdown",
      "source": [
        "## Training"
      ],
      "metadata": {
        "id": "zj_-m4PuqfV3"
      }
    },
    {
      "cell_type": "code",
      "source": [
        "history_raw = raw_model.fit(\n",
        "    ds_train_raw,\n",
        "    validation_data=ds_val_raw,\n",
        "    epochs=5\n",
        ")"
      ],
      "metadata": {
        "id": "kx6ABznGn4bW",
        "colab": {
          "base_uri": "https://localhost:8080/"
        },
        "outputId": "030e369b-9fcd-4fe6-817d-f19599757c43"
      },
      "execution_count": null,
      "outputs": [
        {
          "output_type": "stream",
          "name": "stdout",
          "text": [
            "Epoch 1/5\n",
            "128/128 [==============================] - 331s 2s/step - loss: 299.6541 - val_loss: 297.4692\n",
            "Epoch 2/5\n",
            "128/128 [==============================] - 261s 2s/step - loss: 228.8667 - val_loss: 352.8766\n",
            "Epoch 3/5\n",
            "128/128 [==============================] - 260s 2s/step - loss: 218.8992 - val_loss: 261.1986\n",
            "Epoch 4/5\n",
            "128/128 [==============================] - 259s 2s/step - loss: 215.1749 - val_loss: 213.9495\n",
            "Epoch 5/5\n",
            "128/128 [==============================] - 259s 2s/step - loss: 209.4832 - val_loss: 203.9190\n"
          ]
        }
      ]
    },
    {
      "cell_type": "code",
      "source": [
        "history_mfcc = mfcc_model.fit(\n",
        "    ds_train_mfcc,\n",
        "    validation_data=ds_val_mfcc,\n",
        "    epochs=5\n",
        ")"
      ],
      "metadata": {
        "colab": {
          "base_uri": "https://localhost:8080/"
        },
        "id": "7XPRwTJboKv8",
        "outputId": "111db54a-de08-4a12-fce8-ae686dd4590e"
      },
      "execution_count": null,
      "outputs": [
        {
          "output_type": "stream",
          "name": "stdout",
          "text": [
            "Epoch 1/5\n",
            "128/128 [==============================] - 246s 2s/step - loss: 331.6111 - val_loss: 267.9204\n",
            "Epoch 2/5\n",
            "128/128 [==============================] - 206s 2s/step - loss: 233.4692 - val_loss: 220.4803\n",
            "Epoch 3/5\n",
            "128/128 [==============================] - 206s 2s/step - loss: 227.9438 - val_loss: 220.2748\n",
            "Epoch 4/5\n",
            "128/128 [==============================] - 206s 2s/step - loss: 227.8145 - val_loss: 219.8981\n",
            "Epoch 5/5\n",
            "128/128 [==============================] - 207s 2s/step - loss: 227.6096 - val_loss: 219.7213\n"
          ]
        }
      ]
    },
    {
      "cell_type": "code",
      "source": [
        "history_mfcc_delta = mfcc_delta_model.fit(\n",
        "    ds_train_mfcc_delta,\n",
        "    validation_data=ds_val_mfcc_delta,\n",
        "    epochs=5\n",
        ")"
      ],
      "metadata": {
        "colab": {
          "base_uri": "https://localhost:8080/"
        },
        "id": "7t1iSSI8oLwJ",
        "outputId": "40b4c2b8-3509-4d7a-86df-dc0ac78dadb8"
      },
      "execution_count": null,
      "outputs": [
        {
          "output_type": "stream",
          "name": "stdout",
          "text": [
            "Epoch 1/5\n",
            "128/128 [==============================] - 289s 2s/step - loss: 315.5906 - val_loss: 429.9374\n",
            "Epoch 2/5\n",
            "128/128 [==============================] - 207s 2s/step - loss: 235.3689 - val_loss: 315.8081\n",
            "Epoch 3/5\n",
            "128/128 [==============================] - 207s 2s/step - loss: 227.5312 - val_loss: 221.4134\n",
            "Epoch 4/5\n",
            "128/128 [==============================] - 207s 2s/step - loss: 227.6643 - val_loss: 220.6815\n",
            "Epoch 5/5\n",
            "128/128 [==============================] - 208s 2s/step - loss: 226.9048 - val_loss: 221.6305\n"
          ]
        }
      ]
    },
    {
      "cell_type": "markdown",
      "source": [
        "## Comparison"
      ],
      "metadata": {
        "id": "fT6J4poa5y5B"
      }
    },
    {
      "cell_type": "code",
      "source": [
        "plt.plot(history_raw.history['loss'])               #Best predictions denne mona feature ek use klot da kiyl blnna\n",
        "plt.plot(history_raw.history['val_loss'])\n",
        "plt.title('model loss')                          \n",
        "plt.ylabel('loss')\n",
        "plt.xlabel('epoch')\n",
        "plt.legend(['train', 'val'], loc='upper left')\n",
        "plt.show()"
      ],
      "metadata": {
        "colab": {
          "base_uri": "https://localhost:8080/",
          "height": 472
        },
        "id": "VNCTWGXdt5ZQ",
        "outputId": "b3146c79-bc84-40c0-dfe7-27a91c2a5d26"
      },
      "execution_count": null,
      "outputs": [
        {
          "output_type": "display_data",
          "data": {
            "text/plain": [
              "<Figure size 640x480 with 1 Axes>"
            ],
            "image/png": "[encoded data removed]"
          },
          "metadata": {}
        }
      ]
    },
    {
      "cell_type": "code",
      "source": [
        "plt.plot(history_mfcc.history['loss'])\n",
        "plt.plot(history_mfcc.history['val_loss'])\n",
        "plt.title('model loss')\n",
        "plt.ylabel('loss')\n",
        "plt.xlabel('epoch')\n",
        "plt.legend(['train', 'val'], loc='upper left')\n",
        "plt.show()"
      ],
      "metadata": {
        "colab": {
          "base_uri": "https://localhost:8080/",
          "height": 472
        },
        "id": "a3XTdkVHyxJ2",
        "outputId": "a1e2ba42-27c5-4841-d5b2-e1c179809a4f"
      },
      "execution_count": null,
      "outputs": [
        {
          "output_type": "display_data",
          "data": {
            "text/plain": [
              "<Figure size 640x480 with 1 Axes>"
            ],
            "image/png": "[encoded data removed]"
          },
          "metadata": {}
        }
      ]
    },
    {
      "cell_type": "code",
      "source": [
        "plt.plot(history_mfcc_delta.history['loss'])\n",
        "plt.plot(history_mfcc_delta.history['val_loss'])\n",
        "plt.title('model loss')\n",
        "plt.ylabel('loss')\n",
        "plt.xlabel('epoch')\n",
        "plt.legend(['train', 'val'], loc='upper left')\n",
        "plt.show()"
      ],
      "metadata": {
        "colab": {
          "base_uri": "https://localhost:8080/",
          "height": 472
        },
        "id": "ZXSgYE024i4d",
        "outputId": "5ea60c00-7e60-4bf6-a1b6-33cd9c50c63e"
      },
      "execution_count": null,
      "outputs": [
        {
          "output_type": "display_data",
          "data": {
            "text/plain": [
              "<Figure size 640x480 with 1 Axes>"
            ],
            "image/png": "[encoded data removed]"
          },
          "metadata": {}
        }
      ]
    },
    {
      "cell_type": "code",
      "source": [
        "def decode_batch_predictions(logits):\n",
        "    '''\n",
        "    decode a batch of predictions. uses CTC greedy decoder\n",
        "    '''\n",
        "    logits = tf.nn.softmax(logits)\n",
        "    logits = tf.transpose(logits, perm=[1,0,2])\n",
        "    logits_len = tf.fill((logits.shape[1],), logits.shape[0])\n",
        "    results = tf.nn.ctc_greedy_decoder(logits, sequence_length=logits_len, blank_index=-1)[0][0]\n",
        "    results = tf.sparse.to_dense(results)\n",
        "    output_text = []\n",
        "    for result in results:\n",
        "        result = tf.strings.reduce_join(num_to_char(result)).numpy().decode(\"utf-8\")\n",
        "        output_text.append(result)\n",
        "    return output_text"
      ],
      "metadata": {
        "id": "l00qqnq94udg"
      },
      "execution_count": null,
      "outputs": []
    },
    {
      "cell_type": "code",
      "source": [
        "predictions = []\n",
        "targets = []\n",
        "for batch in ds_val_raw:\n",
        "    X, y = batch\n",
        "    batch_predictions = raw_model.predict(X)\n",
        "    batch_predictions = decode_batch_predictions(batch_predictions)\n",
        "    predictions.extend(batch_predictions)\n",
        "    for label in y:\n",
        "        label = tf.strings.reduce_join(num_to_char(label)).numpy().decode(\"utf-8\")\n",
        "        targets.append(label)\n",
        "wer_score = jiwer.wer(targets, predictions)\n",
        "print(\"-\" * 100)\n",
        "print(f\"Word Error Rate: {wer_score:.4f}\") #word error calculation/percentage\n",
        "print(\"-\" * 100)"
      ],
      "metadata": {
        "colab": {
          "base_uri": "https://localhost:8080/"
        },
        "id": "vNcZZYQMuDiS",
        "outputId": "9949755d-8783-4161-83d9-6a6c3bc4aa64"
      },
      "execution_count": null,
      "outputs": [
        {
          "output_type": "stream",
          "name": "stdout",
          "text": [
            "1/1 [==============================] - 2s 2s/step\n",
            "1/1 [==============================] - 2s 2s/step\n",
            "1/1 [==============================] - 0s 235ms/step\n",
            "1/1 [==============================] - 0s 141ms/step\n",
            "1/1 [==============================] - 0s 436ms/step\n",
            "1/1 [==============================] - 0s 487ms/step\n",
            "1/1 [==============================] - 0s 140ms/step\n",
            "1/1 [==============================] - 0s 60ms/step\n",
            "1/1 [==============================] - 0s 84ms/step\n",
            "1/1 [==============================] - 1s 830ms/step\n",
            "1/1 [==============================] - 0s 338ms/step\n",
            "1/1 [==============================] - 1s 560ms/step\n",
            "1/1 [==============================] - 1s 635ms/step\n",
            "1/1 [==============================] - 0s 175ms/step\n",
            "1/1 [==============================] - 0s 191ms/step\n",
            "1/1 [==============================] - 0s 340ms/step\n",
            "1/1 [==============================] - 0s 329ms/step\n",
            "1/1 [==============================] - 1s 594ms/step\n",
            "1/1 [==============================] - 0s 338ms/step\n",
            "1/1 [==============================] - 0s 353ms/step\n",
            "1/1 [==============================] - 0s 439ms/step\n",
            "1/1 [==============================] - 0s 475ms/step\n",
            "1/1 [==============================] - 0s 492ms/step\n",
            "1/1 [==============================] - 0s 162ms/step\n",
            "1/1 [==============================] - 1s 506ms/step\n",
            "1/1 [==============================] - 0s 188ms/step\n",
            "1/1 [==============================] - 0s 166ms/step\n",
            "1/1 [==============================] - 1s 688ms/step\n",
            "1/1 [==============================] - 1s 761ms/step\n",
            "1/1 [==============================] - 1s 568ms/step\n",
            "1/1 [==============================] - 0s 237ms/step\n",
            "1/1 [==============================] - 0s 198ms/step\n",
            "1/1 [==============================] - 0s 248ms/step\n",
            "----------------------------------------------------------------------------------------------------\n",
            "Word Error Rate: 0.9916\n",
            "----------------------------------------------------------------------------------------------------\n"
          ]
        }
      ]
    },
    {
      "cell_type": "code",
      "source": [
        "predictions = []\n",
        "targets = []\n",
        "for batch in ds_val_mfcc:\n",
        "    X, y = batch\n",
        "    batch_predictions = mfcc_model.predict(X)\n",
        "    batch_predictions = decode_batch_predictions(batch_predictions)\n",
        "    predictions.extend(batch_predictions)\n",
        "    for label in y:\n",
        "        label = tf.strings.reduce_join(num_to_char(label)).numpy().decode(\"utf-8\")\n",
        "        targets.append(label)\n",
        "wer_score = jiwer.wer(targets, predictions)\n",
        "print(\"-\" * 100)\n",
        "print(f\"Word Error Rate: {wer_score:.4f}\")\n",
        "print(\"-\" * 100)"
      ],
      "metadata": {
        "colab": {
          "base_uri": "https://localhost:8080/"
        },
        "id": "z5a-nxle5Wv1",
        "outputId": "33bc0ae9-392d-4fb5-d1cb-d86206256633"
      },
      "execution_count": null,
      "outputs": [
        {
          "output_type": "stream",
          "name": "stdout",
          "text": [
            "1/1 [==============================] - 5s 5s/step\n",
            "1/1 [==============================] - 5s 5s/step\n",
            "1/1 [==============================] - 0s 237ms/step\n",
            "1/1 [==============================] - 0s 172ms/step\n",
            "1/1 [==============================] - 0s 417ms/step\n",
            "1/1 [==============================] - 0s 403ms/step\n",
            "1/1 [==============================] - 0s 223ms/step\n",
            "1/1 [==============================] - 0s 186ms/step\n",
            "1/1 [==============================] - 0s 182ms/step\n",
            "1/1 [==============================] - 1s 664ms/step\n",
            "1/1 [==============================] - 0s 254ms/step\n",
            "1/1 [==============================] - 0s 411ms/step\n",
            "1/1 [==============================] - 0s 427ms/step\n",
            "1/1 [==============================] - 0s 124ms/step\n",
            "1/1 [==============================] - 0s 138ms/step\n",
            "1/1 [==============================] - 0s 238ms/step\n",
            "1/1 [==============================] - 0s 183ms/step\n",
            "1/1 [==============================] - 0s 443ms/step\n",
            "1/1 [==============================] - 0s 255ms/step\n",
            "1/1 [==============================] - 0s 220ms/step\n",
            "1/1 [==============================] - 0s 353ms/step\n",
            "1/1 [==============================] - 0s 407ms/step\n",
            "1/1 [==============================] - 0s 366ms/step\n",
            "1/1 [==============================] - 0s 122ms/step\n",
            "1/1 [==============================] - 0s 421ms/step\n",
            "1/1 [==============================] - 0s 169ms/step\n",
            "1/1 [==============================] - 0s 136ms/step\n",
            "1/1 [==============================] - 1s 512ms/step\n",
            "1/1 [==============================] - 1s 568ms/step\n",
            "1/1 [==============================] - 0s 412ms/step\n",
            "1/1 [==============================] - 0s 207ms/step\n",
            "1/1 [==============================] - 0s 159ms/step\n",
            "1/1 [==============================] - 0s 188ms/step\n",
            "----------------------------------------------------------------------------------------------------\n",
            "Word Error Rate: 1.0000\n",
            "----------------------------------------------------------------------------------------------------\n"
          ]
        }
      ]
    },
    {
      "cell_type": "code",
      "source": [
        "predictions = [] \n",
        "targets = []\n",
        "for batch in ds_val_mfcc_delta:\n",
        "    X, y = batch\n",
        "    batch_predictions = mfcc_delta_model.predict(X)\n",
        "    batch_predictions = decode_batch_predictions(batch_predictions)\n",
        "    predictions.extend(batch_predictions)\n",
        "    for label in y:\n",
        "        label = tf.strings.reduce_join(num_to_char(label)).numpy().decode(\"utf-8\")\n",
        "        targets.append(label)\n",
        "wer_score = jiwer.wer(targets, predictions)\n",
        "print(\"-\" * 100)\n",
        "print(f\"Word Error Rate: {wer_score:.4f}\")\n",
        "print(\"-\" * 100)"
      ],
      "metadata": {
        "colab": {
          "base_uri": "https://localhost:8080/"
        },
        "id": "i8lqoJrT40sf",
        "outputId": "427b9fc8-7c75-443d-b377-503f3d6e288a"
      },
      "execution_count": null,
      "outputs": [
        {
          "output_type": "stream",
          "name": "stdout",
          "text": [
            "1/1 [==============================] - 3s 3s/step\n",
            "1/1 [==============================] - 4s 4s/step\n",
            "1/1 [==============================] - 0s 208ms/step\n",
            "1/1 [==============================] - 0s 121ms/step\n",
            "1/1 [==============================] - 0s 345ms/step\n",
            "1/1 [==============================] - 0s 362ms/step\n",
            "1/1 [==============================] - 0s 137ms/step\n",
            "1/1 [==============================] - 0s 143ms/step\n",
            "1/1 [==============================] - 0s 135ms/step\n",
            "1/1 [==============================] - 1s 551ms/step\n",
            "1/1 [==============================] - 0s 335ms/step\n",
            "1/1 [==============================] - 0s 478ms/step\n",
            "1/1 [==============================] - 1s 509ms/step\n",
            "1/1 [==============================] - 0s 139ms/step\n",
            "1/1 [==============================] - 0s 159ms/step\n",
            "1/1 [==============================] - 0s 249ms/step\n",
            "1/1 [==============================] - 0s 254ms/step\n",
            "1/1 [==============================] - 0s 468ms/step\n",
            "1/1 [==============================] - 0s 275ms/step\n",
            "1/1 [==============================] - 0s 235ms/step\n",
            "1/1 [==============================] - 0s 445ms/step\n",
            "1/1 [==============================] - 0s 448ms/step\n",
            "1/1 [==============================] - 0s 379ms/step\n",
            "1/1 [==============================] - 0s 158ms/step\n",
            "1/1 [==============================] - 0s 426ms/step\n",
            "1/1 [==============================] - 0s 168ms/step\n",
            "1/1 [==============================] - 0s 134ms/step\n",
            "1/1 [==============================] - 1s 516ms/step\n",
            "1/1 [==============================] - 1s 584ms/step\n",
            "1/1 [==============================] - 0s 427ms/step\n",
            "1/1 [==============================] - 0s 216ms/step\n",
            "1/1 [==============================] - 0s 166ms/step\n",
            "1/1 [==============================] - 0s 180ms/step\n",
            "----------------------------------------------------------------------------------------------------\n",
            "Word Error Rate: 0.9905\n",
            "----------------------------------------------------------------------------------------------------\n"
          ]
        }
      ]
    },
    {
      "cell_type": "markdown",
      "source": [
        "## Summary\n",
        "\n",
        "Best feature:\n",
        "\n",
        "    MFCC, delta & delta-delta with 0.9905 WER after 5 epochs"
      ],
      "metadata": {
        "id": "-4tzdgdc6szH"
      }
    }
  ]
}